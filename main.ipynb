{
 "cells": [
  {
   "cell_type": "code",
   "execution_count": 2,
   "metadata": {},
   "outputs": [],
   "source": [
    "import numpy as np\n",
    "import pandas as pd\n",
    "import soundfile as sf\n",
    "import matplotlib.pyplot as plt\n",
    "import librosa\n",
    "import os"
   ]
  },
  {
   "cell_type": "code",
   "execution_count": 29,
   "metadata": {},
   "outputs": [
    {
     "name": "stdout",
     "output_type": "stream",
     "text": [
      "(6705, 128, 130) (6705, 14)\n"
     ]
    }
   ],
   "source": [
    "data_train = pd.read_csv('dataset_train.csv')\n",
    "data_test = pd.read_csv('dataset_test.csv')\n",
    "\n",
    "data_test_folder = \"./IRMAS-TestingData/\" \n",
    "\n",
    "def getdParam():\n",
    "    dList = []\n",
    "    for filename in data_train['name']:\n",
    "        path = os.path.join(data_test_folder, filename + \".wav\")\n",
    "        audio, sr = librosa.load(path)\n",
    "        dList.append(librosa.get_duration(y=audio, sr=sr))\n",
    "    return dList\n",
    "\n",
    "dmin = 5.019773242630386 # La fonction prend 1min30 à s'executer, on a donc sauvegardé le résultat dans une variable\n",
    "dmean = 16.886306332321844 \n",
    "dmax = 20.0\n",
    "len = 2874\n",
    "\n",
    "def getSpectre():\n",
    "    L = []\n",
    "\n",
    "    for path in data_train['path']:\n",
    "        audio, sr = librosa.load(path)\n",
    "        spectre = librosa.feature.melspectrogram(y = audio, sr = sr, n_mels = 128, fmax = 8000)\n",
    "        ptodb = librosa.power_to_db(spectre, ref=np.max)\n",
    "        L.append(ptodb)\n",
    "        \n",
    "    list_spectres = np.array(L)\n",
    "    np.save('list_spectres.npy', list_spectres)\n",
    "    return list_spectres\n",
    "\n",
    "#list_spectres = getSpectre() ##La fonction prend très longtemps à créer le fichier npy, on l'execute une fois et on enregistre le fichier\n",
    "list_spectres = np.load('list_spectres.npy')\n",
    "print(list_spectres.shape, data_train.shape)"
   ]
  },
  {
   "cell_type": "code",
   "execution_count": null,
   "metadata": {},
   "outputs": [],
   "source": []
  }
 ],
 "metadata": {
  "kernelspec": {
   "display_name": "base",
   "language": "python",
   "name": "python3"
  },
  "language_info": {
   "codemirror_mode": {
    "name": "ipython",
    "version": 3
   },
   "file_extension": ".py",
   "mimetype": "text/x-python",
   "name": "python",
   "nbconvert_exporter": "python",
   "pygments_lexer": "ipython3",
   "version": "3.10.9"
  },
  "orig_nbformat": 4
 },
 "nbformat": 4,
 "nbformat_minor": 2
}
