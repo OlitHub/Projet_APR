{
 "cells": [
  {
   "cell_type": "code",
   "execution_count": 1,
   "metadata": {},
   "outputs": [],
   "source": [
    "import numpy as np\n",
    "import pandas as pd\n",
    "import soundfile as sf\n",
    "import matplotlib.pyplot as plt\n",
    "import librosa\n",
    "import os\n",
    "from sklearn.model_selection import train_test_split\n",
    "import tensorflow as tf\n",
    "from keras import layers"
   ]
  },
  {
   "cell_type": "code",
   "execution_count": 2,
   "metadata": {},
   "outputs": [
    {
     "name": "stdout",
     "output_type": "stream",
     "text": [
      "(6705, 128, 130) (6705, 12)\n"
     ]
    }
   ],
   "source": [
    "data_train = pd.read_csv('dataset_train.csv')\n",
    "data_train = data_train.sample(frac=1).reset_index(drop=True)\n",
    "data_test = pd.read_csv('dataset_test.csv')\n",
    "data_test = data_test.sample(frac=1).reset_index(drop=True)\n",
    "\n",
    "data_test_folder = \"./IRMAS-TestingData/\" \n",
    "\n",
    "def getdParam():\n",
    "    dList = []\n",
    "    for filename in data_train['name']:\n",
    "        path = os.path.join(data_test_folder, filename + \".wav\")\n",
    "        audio, sr = librosa.load(path)\n",
    "        dList.append(librosa.get_duration(y=audio, sr=sr))\n",
    "    return dList\n",
    "\n",
    "dmin = 5.019773242630386 # La fonction prend 1min30 à s'executer, on a donc sauvegardé le résultat dans une variable\n",
    "dmean = 16.886306332321844 \n",
    "dmax = 20.0\n",
    "len = 2874\n",
    "\n",
    "def getSpectre():\n",
    "    L = []\n",
    "\n",
    "    for path in data_train['path']:\n",
    "        audio, sr = librosa.load(path)\n",
    "        spectre = librosa.feature.melspectrogram(y = audio, sr = sr, n_mels = 128, fmax = 8000)\n",
    "        ptodb = librosa.power_to_db(spectre, ref=np.max)\n",
    "        L.append(ptodb)\n",
    "        \n",
    "    Y = np.array(data_train.drop(['name', 'path'], axis=1))    \n",
    "    list_spectres = np.array(L)\n",
    "    np.save('list_spectres.npy', list_spectres)\n",
    "    np.save('list_spectres_values.npy', Y)\n",
    "\n",
    "#getSpectre() ##La fonction prend très longtemps à créer le fichier npy, on l'execute une fois et on enregistre le fichier"
   ]
  },
  {
   "cell_type": "code",
   "execution_count": 9,
   "metadata": {},
   "outputs": [
    {
     "name": "stdout",
     "output_type": "stream",
     "text": [
      "(5364, 128, 130) (1341, 128, 130) (5364, 12) (1341, 12)\n"
     ]
    }
   ],
   "source": [
    "list_spectres = np.load('list_spectres.npy')\n",
    "list_spectres_values = np.load('list_spectres_values.npy')\n",
    "X = list_spectres\n",
    "Y = list_spectres_values\n",
    "X_train, X_test, Y_train, Y_test = train_test_split(X, Y, random_state=1, test_size=0.2)\n",
    "\n",
    "print(X_train.shape, X_test.shape, Y_train.shape, Y_test.shape)"
   ]
  },
  {
   "cell_type": "code",
   "execution_count": 33,
   "metadata": {},
   "outputs": [
    {
     "name": "stdout",
     "output_type": "stream",
     "text": [
      "Model: \"sequential_4\"\n",
      "_________________________________________________________________\n",
      " Layer (type)                Output Shape              Param #   \n",
      "=================================================================\n",
      " conv2d_8 (Conv2D)           (None, 126, 128, 32)      320       \n",
      "                                                                 \n",
      " max_pooling2d_8 (MaxPooling  (None, 63, 64, 32)       0         \n",
      " 2D)                                                             \n",
      "                                                                 \n",
      " conv2d_9 (Conv2D)           (None, 61, 62, 64)        18496     \n",
      "                                                                 \n",
      " max_pooling2d_9 (MaxPooling  (None, 30, 31, 64)       0         \n",
      " 2D)                                                             \n",
      "                                                                 \n",
      " flatten_4 (Flatten)         (None, 59520)             0         \n",
      "                                                                 \n",
      " dense_8 (Dense)             (None, 64)                3809344   \n",
      "                                                                 \n",
      " dense_9 (Dense)             (None, 12)                780       \n",
      "                                                                 \n",
      "=================================================================\n",
      "Total params: 3,828,940\n",
      "Trainable params: 3,828,940\n",
      "Non-trainable params: 0\n",
      "_________________________________________________________________\n",
      "168/168 [==============================] - 48s 278ms/step - loss: 7422.4653 - accuracy: 0.1456\n",
      "42/42 [==============================] - 4s 76ms/step - loss: 38897.9648 - accuracy: 0.1812\n",
      "Test loss: 38897.96484375\n",
      "Test accuracy: 0.1812080591917038\n"
     ]
    }
   ],
   "source": [
    "model = tf.keras.Sequential([\n",
    "    layers.Input(shape=(128, 130, 1)),  # Input layer with shape (128, 130, 1)\n",
    "    layers.Conv2D(32, (3, 3), activation='relu'),  # Convolutional layer with 32 filters and 3x3 kernel\n",
    "    layers.MaxPooling2D((2, 2)),  # Max pooling layer with 2x2 pool size\n",
    "    layers.Conv2D(64, (3, 3), activation='relu'),  # Convolutional layer with 64 filters and 3x3 kernel\n",
    "    layers.MaxPooling2D((2, 2)),  # Max pooling layer with 2x2 pool size\n",
    "    layers.Flatten(),  # Flatten the 2D feature maps into a 1D array\n",
    "    layers.Dense(64, activation='relu'),  # Dense layer with 64 units and ReLU activation\n",
    "    layers.Dense(12, activation='sigmoid')  # Output layer with 12 units and softmax activation\n",
    "])\n",
    "\n",
    "model.compile(optimizer='adam', loss='categorical_crossentropy', metrics=['accuracy'])\n",
    "\n",
    "model.summary()\n",
    "\n",
    "model.fit(X_train, Y_train, batch_size=32, epochs=1)\n",
    "\n",
    "loss, accuracy = model.evaluate(X_test, Y_test)\n",
    "print(\"Test loss:\", loss)\n",
    "print(\"Test accuracy:\", accuracy)"
   ]
  },
  {
   "cell_type": "code",
   "execution_count": 39,
   "metadata": {},
   "outputs": [
    {
     "name": "stdout",
     "output_type": "stream",
     "text": [
      "1/1 [==============================] - 0s 48ms/step\n",
      "[0 0 0 0 0 0 0 0 1 0 0 1]\n",
      "Predicted Class: cel\n",
      "Class Probabilities: [1. 1. 1. 1. 1. 1. 1. 1. 1. 1. 1. 1.]\n"
     ]
    }
   ],
   "source": [
    "# Assuming you have already trained and compiled your model\n",
    "\n",
    "# Get a specific row from your dataset\n",
    "\n",
    "a = np.random.randint(0, 1341)\n",
    "\n",
    "input_row = X_test[a]  # Replace with your desired row\n",
    "output_row = Y_test[a]  # Replace with your desired row\n",
    "\n",
    "# Reshape the input row if needed\n",
    "input_row = input_row.reshape(1, 128, 130, 1)  # Reshape for a single sample\n",
    "\n",
    "# Perform the prediction\n",
    "predictions = model.predict(input_row)\n",
    "\n",
    "# Get the predicted class probabilities\n",
    "class_probabilities = predictions[0]\n",
    "\n",
    "# Get the predicted class index\n",
    "predicted_class_index = tf.argmax(class_probabilities).numpy()\n",
    "\n",
    "# Get the predicted class label\n",
    "class_labels = [\"cel\", \"cla\", \"flu\", \"gac\", \"gel\", \"org\", \"pia\", \"sax\", \"tru\", \"vio\", \"voi\", \"drum\"]\n",
    "predicted_class_label = class_labels[predicted_class_index]\n",
    "\n",
    "# Print the predicted class label and probabilities\n",
    "print(output_row)\n",
    "print(\"Predicted Class:\", predicted_class_label)\n",
    "print(\"Class Probabilities:\", class_probabilities)\n"
   ]
  }
 ],
 "metadata": {
  "kernelspec": {
   "display_name": "base",
   "language": "python",
   "name": "python3"
  },
  "language_info": {
   "codemirror_mode": {
    "name": "ipython",
    "version": 3
   },
   "file_extension": ".py",
   "mimetype": "text/x-python",
   "name": "python",
   "nbconvert_exporter": "python",
   "pygments_lexer": "ipython3",
   "version": "3.10.9"
  },
  "orig_nbformat": 4
 },
 "nbformat": 4,
 "nbformat_minor": 2
}
