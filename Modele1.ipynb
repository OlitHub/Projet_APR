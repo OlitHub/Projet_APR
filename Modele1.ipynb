{
 "cells": [
  {
   "cell_type": "code",
   "execution_count": null,
   "metadata": {},
   "outputs": [],
   "source": [
    "model = tf.keras.Sequential([\n",
    "    layers.Input(shape=(128, 130, 1)),  # Input layer with shape (128, 130, 1)\n",
    "    layers.Conv2D(32, (3, 3), activation='relu'),  # Convolutional layer with 32 filters and 3x3 kernel\n",
    "    layers.MaxPooling2D((2, 2)),  # Max pooling layer with 2x2 pool size\n",
    "    layers.Conv2D(64, (3, 3), activation='relu'),  # Convolutional layer with 64 filters and 3x3 kernel\n",
    "    layers.MaxPooling2D((2, 2)),  # Max pooling layer with 2x2 pool size\n",
    "    layers.Flatten(),  # Flatten the 2D feature maps into a 1D array\n",
    "    layers.Dense(64, activation='relu'),  # Dense layer with 64 units and ReLU activation\n",
    "    layers.Dense(12, activation='sigmoid')  # Output layer with 12 units and softmax activation\n",
    "])\n",
    "\n",
    "model.compile(optimizer='adam', loss='categorical_crossentropy', metrics=['accuracy'])\n",
    "\n",
    "model.summary()\n",
    "\n",
    "model.fit(X_train, Y_train, batch_size=32, epochs=1)\n",
    "\n",
    "loss, accuracy = model.evaluate(X_test, Y_test)\n",
    "print(\"Test loss:\", loss)\n",
    "print(\"Test accuracy:\", accuracy)"
   ]
  },
  {
   "cell_type": "code",
   "execution_count": null,
   "metadata": {},
   "outputs": [],
   "source": [
    "# Assuming you have already trained and compiled your model\n",
    "\n",
    "# Get a specific row from your dataset\n",
    "\n",
    "a = np.random.randint(0, 1341)\n",
    "\n",
    "input_row = X_test[a]  # Replace with your desired row\n",
    "output_row = Y_test[a]  # Replace with your desired row\n",
    "\n",
    "# Reshape the input row if needed\n",
    "input_row = input_row.reshape(1, 128, 130, 1)  # Reshape for a single sample\n",
    "\n",
    "# Perform the prediction\n",
    "predictions = model.predict(input_row)\n",
    "\n",
    "# Get the predicted class probabilities\n",
    "class_probabilities = predictions[0]\n",
    "\n",
    "# Get the predicted class index\n",
    "predicted_class_index = tf.argmax(class_probabilities).numpy()\n",
    "\n",
    "# Get the predicted class label\n",
    "class_labels = [\"cel\", \"cla\", \"flu\", \"gac\", \"gel\", \"org\", \"pia\", \"sax\", \"tru\", \"vio\", \"voi\", \"drum\"]\n",
    "predicted_class_label = class_labels[predicted_class_index]\n",
    "\n",
    "# Print the predicted class label and probabilities\n",
    "print(output_row)\n",
    "print(\"Predicted Class:\", predicted_class_label)\n",
    "print(\"Class Probabilities:\", class_probabilities)\n"
   ]
  }
 ],
 "metadata": {
  "language_info": {
   "name": "python"
  },
  "orig_nbformat": 4
 },
 "nbformat": 4,
 "nbformat_minor": 2
}
