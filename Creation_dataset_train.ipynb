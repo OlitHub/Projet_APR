{
 "cells": [
  {
   "cell_type": "code",
   "execution_count": 2,
   "metadata": {},
   "outputs": [],
   "source": [
    "import pandas as pd\n",
    "import os"
   ]
  },
  {
   "cell_type": "code",
   "execution_count": 4,
   "metadata": {},
   "outputs": [
    {
     "name": "stdout",
     "output_type": "stream",
     "text": [
      "['nod', 'cla]0058']\n"
     ]
    },
    {
     "ename": "AttributeError",
     "evalue": "'DataFrame' object has no attribute 'append'",
     "output_type": "error",
     "traceback": [
      "\u001b[1;31m---------------------------------------------------------------------------\u001b[0m",
      "\u001b[1;31mAttributeError\u001b[0m                            Traceback (most recent call last)",
      "Cell \u001b[1;32mIn[4], line 39\u001b[0m\n\u001b[0;32m     21\u001b[0m             \u001b[39mprint\u001b[39m(labels)\n\u001b[0;32m     23\u001b[0m             row_data \u001b[39m=\u001b[39m {\n\u001b[0;32m     24\u001b[0m                 \u001b[39m\"\u001b[39m\u001b[39mname\u001b[39m\u001b[39m\"\u001b[39m: name,\n\u001b[0;32m     25\u001b[0m                 \u001b[39m\"\u001b[39m\u001b[39mpath\u001b[39m\u001b[39m\"\u001b[39m: os\u001b[39m.\u001b[39mpath\u001b[39m.\u001b[39mjoin(path, file_name),\n\u001b[1;32m   (...)\u001b[0m\n\u001b[0;32m     36\u001b[0m                 \u001b[39m\"\u001b[39m\u001b[39mvoi\u001b[39m\u001b[39m\"\u001b[39m: \u001b[39m1\u001b[39m \u001b[39mif\u001b[39;00m \u001b[39m\"\u001b[39m\u001b[39mvoi\u001b[39m\u001b[39m\"\u001b[39m \u001b[39min\u001b[39;00m labels \u001b[39melse\u001b[39;00m \u001b[39m0\u001b[39m\n\u001b[0;32m     37\u001b[0m             }\n\u001b[1;32m---> 39\u001b[0m         data \u001b[39m=\u001b[39m data\u001b[39m.\u001b[39;49mappend(row_data, ignore_index\u001b[39m=\u001b[39m\u001b[39mTrue\u001b[39;00m)\n\u001b[0;32m     41\u001b[0m \u001b[39m# Save DataFrame as a CSV file\u001b[39;00m\n\u001b[0;32m     42\u001b[0m df\u001b[39m.\u001b[39mto_csv(\u001b[39m\"\u001b[39m\u001b[39mdataset_train.csv\u001b[39m\u001b[39m\"\u001b[39m, index\u001b[39m=\u001b[39m\u001b[39mFalse\u001b[39;00m)\n",
      "File \u001b[1;32m~\\AppData\\Roaming\\Python\\Python310\\site-packages\\pandas\\core\\generic.py:5989\u001b[0m, in \u001b[0;36mNDFrame.__getattr__\u001b[1;34m(self, name)\u001b[0m\n\u001b[0;32m   5982\u001b[0m \u001b[39mif\u001b[39;00m (\n\u001b[0;32m   5983\u001b[0m     name \u001b[39mnot\u001b[39;00m \u001b[39min\u001b[39;00m \u001b[39mself\u001b[39m\u001b[39m.\u001b[39m_internal_names_set\n\u001b[0;32m   5984\u001b[0m     \u001b[39mand\u001b[39;00m name \u001b[39mnot\u001b[39;00m \u001b[39min\u001b[39;00m \u001b[39mself\u001b[39m\u001b[39m.\u001b[39m_metadata\n\u001b[0;32m   5985\u001b[0m     \u001b[39mand\u001b[39;00m name \u001b[39mnot\u001b[39;00m \u001b[39min\u001b[39;00m \u001b[39mself\u001b[39m\u001b[39m.\u001b[39m_accessors\n\u001b[0;32m   5986\u001b[0m     \u001b[39mand\u001b[39;00m \u001b[39mself\u001b[39m\u001b[39m.\u001b[39m_info_axis\u001b[39m.\u001b[39m_can_hold_identifiers_and_holds_name(name)\n\u001b[0;32m   5987\u001b[0m ):\n\u001b[0;32m   5988\u001b[0m     \u001b[39mreturn\u001b[39;00m \u001b[39mself\u001b[39m[name]\n\u001b[1;32m-> 5989\u001b[0m \u001b[39mreturn\u001b[39;00m \u001b[39mobject\u001b[39;49m\u001b[39m.\u001b[39;49m\u001b[39m__getattribute__\u001b[39;49m(\u001b[39mself\u001b[39;49m, name)\n",
      "\u001b[1;31mAttributeError\u001b[0m: 'DataFrame' object has no attribute 'append'"
     ]
    }
   ],
   "source": [
    "# On définit les colonnes du Dataset\n",
    "column_names = [\"name\", \"path\", \"cel\", \"cla\", \"flu\", \"gac\", \"gel\", \"org\", \"pia\", \"sax\", \"tru\", \"vio\", \"voi\"]\n",
    "\n",
    "data = pd.DataFrame(columns=column_names)\n",
    "folder_list = []\n",
    "dataset_folder = \"./IRMAS-TrainingData\"\n",
    "\n",
    "for name in column_names[2:]:\n",
    "    folder_list.append(os.path.join(dataset_folder, name))\n",
    "    \n",
    "    \n",
    "    \n",
    "# Pour chaque fichier txt du dataset on crée une ligne dans le dataframe avec le nom du fichier et les instruments présents\n",
    "for path in folder_list:\n",
    "    for file_name in os.listdir(path):\n",
    "        name, extension = os.path.splitext(file_name)\n",
    "        if extension == \".wav\":\n",
    "            file_info = name.split(\"__\")\n",
    "            name_part = file_info[0]\n",
    "            labels = file_info[1].split(\"][\")[1:]\n",
    "            print(labels)\n",
    "        \n",
    "            row_data = {\n",
    "                \"name\": name,\n",
    "                \"path\": os.path.join(path, file_name),\n",
    "                \"cel\": 1 if \"cel\" in labels else 0,\n",
    "                \"cla\": 1 if \"cla\" in labels else 0,\n",
    "                \"flu\": 1 if \"flu\" in labels else 0,\n",
    "                \"gac\": 1 if \"gac\" in labels else 0,\n",
    "                \"gel\": 1 if \"gel\" in labels else 0,\n",
    "                \"org\": 1 if \"org\" in labels else 0,\n",
    "                \"pia\": 1 if \"pia\" in labels else 0,\n",
    "                \"sax\": 1 if \"sax\" in labels else 0,\n",
    "                \"tru\": 1 if \"tru\" in labels else 0,\n",
    "                \"vio\": 1 if \"vio\" in labels else 0,\n",
    "                \"voi\": 1 if \"voi\" in labels else 0\n",
    "            }\n",
    "        \n",
    "        data = data.append(row_data, ignore_index=True)\n",
    "\n",
    "# Save DataFrame as a CSV file\n",
    "data.to_csv(\"dataset_train.csv\", index=False)\n",
    "\n"
   ]
  }
 ],
 "metadata": {
  "kernelspec": {
   "display_name": ".venv",
   "language": "python",
   "name": "python3"
  },
  "language_info": {
   "codemirror_mode": {
    "name": "ipython",
    "version": 3
   },
   "file_extension": ".py",
   "mimetype": "text/x-python",
   "name": "python",
   "nbconvert_exporter": "python",
   "pygments_lexer": "ipython3",
   "version": "3.10.9"
  },
  "orig_nbformat": 4
 },
 "nbformat": 4,
 "nbformat_minor": 2
}
