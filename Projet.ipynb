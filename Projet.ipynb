{
 "cells": [
  {
   "cell_type": "code",
   "execution_count": 2,
   "metadata": {},
   "outputs": [],
   "source": [
    "import pandas as pd\n",
    "import os    "
   ]
  },
  {
   "cell_type": "code",
   "execution_count": 3,
   "metadata": {},
   "outputs": [],
   "source": [
    "# On définit les colonnes du Dataset\n",
    "column_names = [\"name\", \"cel\", \"cla\", \"flu\", \"gac\", \"gel\", \"org\", \"pia\", \"sax\", \"tru\", \"vio\", \"voi\"]\n",
    "\n",
    "df = pd.DataFrame(columns=column_names)\n",
    "dataset_folder = \"./IRMAS-TestingData\"\n",
    "\n",
    "# Pour chaque fichier txt du dataset on crée une ligne dans le dataframe avec le nom du fichier et les instruments présents\n",
    "for file_name in os.listdir(dataset_folder):\n",
    "    if file_name.endswith(\".txt\"):\n",
    "        file_path = os.path.join(dataset_folder, file_name)\n",
    "        with open(file_path, \"r\") as f:\n",
    "            instrument_abbreviations = f.read().split(\"\\t\\n\")\n",
    "\n",
    "        row = [file_name[:-4]] + [1 if abbreviation.strip() in instrument_abbreviations else 0 for abbreviation in column_names[1:]]\n",
    "        # -4 pour enlever le .txt\n",
    "        \n",
    "        df.loc[len(df)] = row\n",
    "\n",
    "# Save DataFrame as a CSV file\n",
    "df.to_csv(\"dataset.csv\", index=False)"
   ]
  }
 ],
 "metadata": {
  "kernelspec": {
   "display_name": "base",
   "language": "python",
   "name": "python3"
  },
  "language_info": {
   "codemirror_mode": {
    "name": "ipython",
    "version": 3
   },
   "file_extension": ".py",
   "mimetype": "text/x-python",
   "name": "python",
   "nbconvert_exporter": "python",
   "pygments_lexer": "ipython3",
   "version": "3.10.9"
  },
  "orig_nbformat": 4
 },
 "nbformat": 4,
 "nbformat_minor": 2
}
